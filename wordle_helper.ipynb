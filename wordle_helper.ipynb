{
 "cells": [
  {
   "cell_type": "code",
   "execution_count": 1,
   "id": "b2bc4ebf",
   "metadata": {},
   "outputs": [],
   "source": [
    "import pandas as pd\n",
    "import re\n",
    "from english_words import english_words_set"
   ]
  },
  {
   "cell_type": "code",
   "execution_count": 21,
   "id": "a5c833c8",
   "metadata": {},
   "outputs": [],
   "source": [
    "guesses = pd.read_csv('wordle-allowed-guesses.txt', header=None)\n",
    "answers = pd.read_csv('wordle-answers-alphabetical.txt', header=None)"
   ]
  },
  {
   "cell_type": "code",
   "execution_count": 23,
   "id": "8b748eb1",
   "metadata": {},
   "outputs": [],
   "source": [
    "word_pool = guesses[0].to_list() + answers[0].to_list()"
   ]
  },
  {
   "cell_type": "code",
   "execution_count": 25,
   "id": "f382d18a",
   "metadata": {},
   "outputs": [
    {
     "data": {
      "text/plain": [
       "12972"
      ]
     },
     "execution_count": 25,
     "metadata": {},
     "output_type": "execute_result"
    }
   ],
   "source": [
    "len(word_pool)"
   ]
  },
  {
   "cell_type": "code",
   "execution_count": 26,
   "id": "dd6f5b81",
   "metadata": {},
   "outputs": [],
   "source": [
    "def update_pool(pool, guess, pattern):\n",
    "    \n",
    "    pattern_dict = {}\n",
    "    for n in range(5):\n",
    "        if list(guess)[n] not in pattern_dict:\n",
    "            pattern_dict[list(guess)[n]] = list(pattern)[n]\n",
    "        else:\n",
    "            pattern_dict[list(guess)[n]+'1'] = list(pattern)[n]\n",
    "\n",
    "    b_list = []\n",
    "    for k, v in pattern_dict.items():\n",
    "        if v =='b':\n",
    "            b_list.append(k[0])\n",
    "    \n",
    "    if len(b_list) != 0:\n",
    "        for b_letter in b_list:\n",
    "            pool = [word for word in pool if b_letter not in word]\n",
    "            \n",
    "    g_pattern = ''\n",
    "    for k, v in pattern_dict.items():\n",
    "        if v =='g':\n",
    "            g_pattern+=k[0]\n",
    "        else:\n",
    "            g_pattern+='.'\n",
    "    \n",
    "    p = re.compile(g_pattern)\n",
    "    pool = [word for word in pool if p.match(word)]\n",
    "    \n",
    "    count = 0\n",
    "    y_dict = {}\n",
    "    for k, v in pattern_dict.items():\n",
    "        if v =='y':\n",
    "            y_dict[k[0]] = count\n",
    "        count+=1\n",
    "    \n",
    "    g_list = []\n",
    "    for k, v in pattern_dict.items():\n",
    "        if v =='g':\n",
    "            g_list.append(k[0])\n",
    "\n",
    "    remove_list = []\n",
    "    for k, v in y_dict.items():\n",
    "        for word in pool:\n",
    "            if (word.find(k[0]) == v):\n",
    "                remove_list.append(word)\n",
    "    \n",
    "    pool = [word for word in pool if word not in remove_list]\n",
    "    \n",
    "    y_list = list(y_dict.keys())\n",
    "    if len(y_list) != 0:\n",
    "        for y_letter in y_list:\n",
    "            pool = [word for word in pool if y_letter in word]\n",
    "            \n",
    "    return sorted(pool)"
   ]
  },
  {
   "cell_type": "code",
   "execution_count": null,
   "id": "d508d0a0",
   "metadata": {},
   "outputs": [],
   "source": [
    "sample_answer = \"mourn\""
   ]
  },
  {
   "cell_type": "code",
   "execution_count": 27,
   "id": "6fbd65d0",
   "metadata": {},
   "outputs": [
    {
     "data": {
      "text/plain": [
       "['boord',\n",
       " 'boors',\n",
       " 'bords',\n",
       " 'borgo',\n",
       " 'boric',\n",
       " 'borks',\n",
       " 'borms',\n",
       " 'boron',\n",
       " 'bourd',\n",
       " 'bourg',\n",
       " 'bourn',\n",
       " 'bowrs',\n",
       " 'coirs',\n",
       " 'color',\n",
       " 'corby',\n",
       " 'cords',\n",
       " 'corgi',\n",
       " 'corks',\n",
       " 'corky',\n",
       " 'corms',\n",
       " 'corni',\n",
       " 'corno',\n",
       " 'corns',\n",
       " 'cornu',\n",
       " 'corny',\n",
       " 'corps',\n",
       " 'corso',\n",
       " 'courb',\n",
       " 'courd',\n",
       " 'cours',\n",
       " 'cowry',\n",
       " 'dobro',\n",
       " 'dolor',\n",
       " 'donor',\n",
       " 'doorn',\n",
       " 'doors',\n",
       " 'dorbs',\n",
       " 'doric',\n",
       " 'doris',\n",
       " 'dorks',\n",
       " 'dorky',\n",
       " 'dorms',\n",
       " 'dormy',\n",
       " 'dorps',\n",
       " 'dorrs',\n",
       " 'dowry',\n",
       " 'forbs',\n",
       " 'forby',\n",
       " 'fordo',\n",
       " 'fords',\n",
       " 'forgo',\n",
       " 'forks',\n",
       " 'forky',\n",
       " 'forms',\n",
       " 'forum',\n",
       " 'fours',\n",
       " 'goors',\n",
       " 'goory',\n",
       " 'goris',\n",
       " 'gorms',\n",
       " 'gormy',\n",
       " 'gorps',\n",
       " 'gorsy',\n",
       " 'gourd',\n",
       " 'honor',\n",
       " 'hoord',\n",
       " 'hoors',\n",
       " 'horis',\n",
       " 'horks',\n",
       " 'horns',\n",
       " 'horny',\n",
       " 'horsy',\n",
       " 'houri',\n",
       " 'hours',\n",
       " 'jorum',\n",
       " 'jours',\n",
       " 'koori',\n",
       " 'koros',\n",
       " 'korun',\n",
       " 'korus',\n",
       " 'loirs',\n",
       " 'loord',\n",
       " 'lords',\n",
       " 'lordy',\n",
       " 'loric',\n",
       " 'loris',\n",
       " 'lorry',\n",
       " 'lours',\n",
       " 'loury',\n",
       " 'lowry',\n",
       " 'mohrs',\n",
       " 'mohur',\n",
       " 'moors',\n",
       " 'moory',\n",
       " 'morns',\n",
       " 'moron',\n",
       " 'morph',\n",
       " 'morro',\n",
       " 'mourn',\n",
       " 'noirs',\n",
       " 'noris',\n",
       " 'norks',\n",
       " 'norms',\n",
       " 'poori',\n",
       " 'porch',\n",
       " 'porgy',\n",
       " 'porin',\n",
       " 'porks',\n",
       " 'porky',\n",
       " 'porno',\n",
       " 'porns',\n",
       " 'porny',\n",
       " 'pours',\n",
       " 'sohur',\n",
       " 'sopor',\n",
       " 'sorbo',\n",
       " 'sorbs',\n",
       " 'sordo',\n",
       " 'sords',\n",
       " 'sorgo',\n",
       " 'sorns',\n",
       " 'sorry',\n",
       " 'sorus',\n",
       " 'sours',\n",
       " 'words',\n",
       " 'wordy',\n",
       " 'works',\n",
       " 'world',\n",
       " 'worms',\n",
       " 'wormy',\n",
       " 'worry',\n",
       " 'yorks',\n",
       " 'yorps',\n",
       " 'yourn',\n",
       " 'yours',\n",
       " 'zoril',\n",
       " 'zoris',\n",
       " 'zorro']"
      ]
     },
     "execution_count": 27,
     "metadata": {},
     "output_type": "execute_result"
    }
   ],
   "source": [
    "#testing the function\n",
    "new_pool = update_pool(word_pool, 'roate', 'ygbbb')\n",
    "new_pool"
   ]
  },
  {
   "cell_type": "code",
   "execution_count": 28,
   "id": "f01158d0",
   "metadata": {},
   "outputs": [
    {
     "data": {
      "text/plain": [
       "['coirs',\n",
       " 'color',\n",
       " 'courd',\n",
       " 'cours',\n",
       " 'dolor',\n",
       " 'donor',\n",
       " 'doorn',\n",
       " 'doors',\n",
       " 'goors',\n",
       " 'gourd',\n",
       " 'honor',\n",
       " 'hoord',\n",
       " 'hoors',\n",
       " 'houri',\n",
       " 'hours',\n",
       " 'jours',\n",
       " 'koori',\n",
       " 'loirs',\n",
       " 'loord',\n",
       " 'lours',\n",
       " 'mohrs',\n",
       " 'mohur',\n",
       " 'moors',\n",
       " 'mourn',\n",
       " 'noirs',\n",
       " 'poori',\n",
       " 'pours',\n",
       " 'sohur',\n",
       " 'sopor',\n",
       " 'sours']"
      ]
     },
     "execution_count": 28,
     "metadata": {},
     "output_type": "execute_result"
    }
   ],
   "source": [
    "new_pool_1 = update_pool(new_pool, 'forby', 'bgybb')\n",
    "new_pool_1"
   ]
  },
  {
   "cell_type": "code",
   "execution_count": 30,
   "id": "27e73e19",
   "metadata": {},
   "outputs": [
    {
     "data": {
      "text/plain": [
       "['courd', 'gourd', 'mourn']"
      ]
     },
     "execution_count": 30,
     "metadata": {},
     "output_type": "execute_result"
    }
   ],
   "source": [
    "new_pool_2 = update_pool(new_pool_1, 'hours', 'bgggb')\n",
    "new_pool_2"
   ]
  },
  {
   "cell_type": "code",
   "execution_count": 31,
   "id": "df35fcf0",
   "metadata": {},
   "outputs": [
    {
     "data": {
      "text/plain": [
       "['mourn']"
      ]
     },
     "execution_count": 31,
     "metadata": {},
     "output_type": "execute_result"
    }
   ],
   "source": [
    "new_pool_3 = update_pool(new_pool_2, 'courd', 'bgggb')\n",
    "new_pool_3"
   ]
  },
  {
   "cell_type": "code",
   "execution_count": null,
   "id": "8902809b",
   "metadata": {},
   "outputs": [],
   "source": []
  }
 ],
 "metadata": {
  "kernelspec": {
   "display_name": "Python 3 (ipykernel)",
   "language": "python",
   "name": "python3"
  },
  "language_info": {
   "codemirror_mode": {
    "name": "ipython",
    "version": 3
   },
   "file_extension": ".py",
   "mimetype": "text/x-python",
   "name": "python",
   "nbconvert_exporter": "python",
   "pygments_lexer": "ipython3",
   "version": "3.9.5"
  }
 },
 "nbformat": 4,
 "nbformat_minor": 5
}
