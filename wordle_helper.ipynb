{
 "cells": [
  {
   "cell_type": "code",
   "execution_count": 1,
   "id": "b2bc4ebf",
   "metadata": {},
   "outputs": [],
   "source": [
    "# import libraries\n",
    "import pandas as pd\n",
    "import re\n",
    "#from english_words import english_words_set\n",
    "from wordfreq import zipf_frequency # count the usage frequency of words"
   ]
  },
  {
   "cell_type": "code",
   "execution_count": 2,
   "id": "a5c833c8",
   "metadata": {},
   "outputs": [],
   "source": [
    "# wordle word pool obtained from: https://gist.github.com/cfreshman\n",
    "\n",
    "# before nyt bought wordle\n",
    "guesses_org = pd.read_csv('wordle-allowed-guesses.txt', header=None)\n",
    "answers_org = pd.read_csv('wordle-answers-alphabetical.txt', header=None)\n",
    "\n",
    "# after nyt bought wordle\n",
    "guesses_nyt = pd.read_csv('wordle-nyt-allowed-guesses.txt', header=None)\n",
    "answers_nyt = pd.read_csv('wordle-nyt-answers-alphabetical.txt', header=None)"
   ]
  },
  {
   "cell_type": "code",
   "execution_count": 3,
   "id": "8b748eb1",
   "metadata": {},
   "outputs": [],
   "source": [
    "# combine the allowed guesses and answers to create the complete allowed word list\n",
    "word_pool_org = guesses_org[0].to_list() + answers_org[0].to_list()\n",
    "word_pool_nyt = guesses_nyt[0].to_list() + answers_nyt[0].to_list()"
   ]
  },
  {
   "cell_type": "code",
   "execution_count": 4,
   "id": "f382d18a",
   "metadata": {},
   "outputs": [
    {
     "name": "stdout",
     "output_type": "stream",
     "text": [
      "12972\n",
      "12947\n"
     ]
    }
   ],
   "source": [
    "print(len(word_pool_org))\n",
    "print(len(word_pool_nyt))"
   ]
  },
  {
   "cell_type": "code",
   "execution_count": 5,
   "id": "b0770246",
   "metadata": {},
   "outputs": [],
   "source": [
    "# count the usage frequency of words in word_list using the wordfreq library\n",
    "# more information about the library: https://pypi.org/project/wordfreq/\n",
    "def create_usage_freq_d(word_list):    \n",
    "    usage_freq_d = {}\n",
    "    for word in word_list:\n",
    "        usage_freq_d[word] = zipf_frequency(word, 'en')\n",
    "        \n",
    "    # sort the dict by the usage frequency score in desc order\n",
    "    sorted_usage_freq_d = {k: v for k, v in reversed(sorted(usage_freq_d.items(), key=lambda item: item[1]))}\n",
    "    return sorted_usage_freq_d"
   ]
  },
  {
   "cell_type": "code",
   "execution_count": 6,
   "id": "557c6318",
   "metadata": {},
   "outputs": [],
   "source": [
    "# this function is not used\n",
    "def create_letter_score_d(word_list):\n",
    "    letters_d = {}\n",
    "    for letter in ''.join(word_list):\n",
    "        if letter in letters_d:\n",
    "            letters_d[letter] += 1\n",
    "        else:\n",
    "            letters_d[letter] = 1\n",
    "        \n",
    "    freq_d = {key: 0 for key in word_list}\n",
    "    for word in word_list:\n",
    "        unique_letter_word = \"\".join(set(word))\n",
    "        for n in unique_letter_word:\n",
    "            freq_d[word] += letters_d[n]\n",
    "        \n",
    "    sorted_freq_d = {k: v for k, v in reversed(sorted(freq_d.items(), key=lambda item: item[1]))}"
   ]
  },
  {
   "cell_type": "code",
   "execution_count": 7,
   "id": "66912d72",
   "metadata": {},
   "outputs": [],
   "source": [
    "def get_pattern(guess, answer):\n",
    "    c = 0\n",
    "    pattern = ''\n",
    "    while c < 5:\n",
    "        if guess[c] == answer[c]:\n",
    "            pattern+='g'\n",
    "        elif guess[c] in answer:\n",
    "            pattern+='y'\n",
    "        else:\n",
    "            pattern+='b'\n",
    "        c+=1\n",
    "    return pattern"
   ]
  },
  {
   "cell_type": "code",
   "execution_count": 8,
   "id": "dd6f5b81",
   "metadata": {},
   "outputs": [],
   "source": [
    "# function to update the word list based on the green/yellow/black feedback after each guess\n",
    "# function returns an updated and usage frequency sorted word list\n",
    "def update_pool(pool, guess, pattern):\n",
    "    pattern_dict = {}\n",
    "    for n in range(5):\n",
    "        if list(guess)[n] not in pattern_dict:\n",
    "            pattern_dict[list(guess)[n]] = list(pattern)[n]\n",
    "        elif list(guess)[n]+'1' in pattern_dict:\n",
    "            pattern_dict[list(guess)[n]+'2'] = list(pattern)[n]\n",
    "        else:\n",
    "            pattern_dict[list(guess)[n]+'1'] = list(pattern)[n]\n",
    "        \n",
    "    b_list = []\n",
    "    for k, v in pattern_dict.items():\n",
    "        if v =='b':\n",
    "            b_list.append(k[0])\n",
    "            \n",
    "    g_list = []\n",
    "    for k, v in pattern_dict.items():\n",
    "        if v =='g':\n",
    "            g_list.append(k[0])\n",
    "            \n",
    "    b_list = [letter for letter in b_list if letter not in g_list]\n",
    "            \n",
    "    #print('Black List:')\n",
    "    #print(b_list)\n",
    "    #print(\"\")\n",
    "    \n",
    "    if len(b_list) != 0:\n",
    "        for b_letter in b_list:\n",
    "            pool = [word for word in pool if b_letter not in word]\n",
    "            \n",
    "    #print('After Black:')\n",
    "    #print(pool)\n",
    "    #print(\"\")\n",
    "            \n",
    "    g_pattern = ''\n",
    "    for k, v in pattern_dict.items():\n",
    "        if v =='g':\n",
    "            g_pattern+=k[0]\n",
    "        else:\n",
    "            g_pattern+='.'\n",
    "    p = re.compile(g_pattern)\n",
    "    pool = [word for word in pool if p.match(word)]\n",
    "    \n",
    "    #print(\"After Green:\")\n",
    "    #print(pool)\n",
    "    #print(\"\")\n",
    "    \n",
    "    count = 0\n",
    "    y_dict = {}\n",
    "    for k, v in pattern_dict.items():\n",
    "        if v =='y':\n",
    "            y_dict[k] = count\n",
    "        count+=1\n",
    "    \n",
    "    g_list = []\n",
    "    for k, v in pattern_dict.items():\n",
    "        if v =='g':\n",
    "            g_list.append(k[0])\n",
    "\n",
    "    remove_list = []\n",
    "    for k, v in y_dict.items():\n",
    "        for word in pool:\n",
    "            if (word.find(k[0]) == v):\n",
    "                remove_list.append(word)\n",
    "    \n",
    "    pool = [word for word in pool if word not in remove_list]\n",
    "    \n",
    "    y_list = [y[0] for y in list(y_dict.keys())]\n",
    "    if len(y_list) != 0:\n",
    "        for y_letter in y_list:\n",
    "            pool = [word for word in pool if y_letter in word]\n",
    "    \n",
    "    try:\n",
    "        pool.remove(guess)\n",
    "    except:\n",
    "        pass\n",
    "        \n",
    "    # select the pairs in updated word list from the word usage frequency dictionary\n",
    "    freq_d = {word_key: usage_freq_d[word_key] for word_key in pool}\n",
    "    sorted_freq_d = {k: v for k, v in reversed(sorted(freq_d.items(), key=lambda item: item[1]))}\n",
    "    return sorted_freq_d\n",
    "    #return list(sorted_freq_d.keys())"
   ]
  },
  {
   "cell_type": "code",
   "execution_count": 9,
   "id": "e3b71b71",
   "metadata": {},
   "outputs": [],
   "source": [
    "usage_freq_d = create_usage_freq_d(word_pool_nyt)"
   ]
  },
  {
   "cell_type": "code",
   "execution_count": 10,
   "id": "1a80759e",
   "metadata": {},
   "outputs": [
    {
     "data": {
      "text/plain": [
       "[('about', 6.4),\n",
       " ('their', 6.33),\n",
       " ('there', 6.31),\n",
       " ('which', 6.3),\n",
       " ('would', 6.27),\n",
       " ('other', 6.16),\n",
       " ('first', 6.11),\n",
       " ('after', 6.11),\n",
       " ('think', 6.08),\n",
       " ('could', 6.06)]"
      ]
     },
     "execution_count": 10,
     "metadata": {},
     "output_type": "execute_result"
    }
   ],
   "source": [
    "# check the word usage frequency dictionary\n",
    "list(usage_freq_d.items())[:10]"
   ]
  },
  {
   "cell_type": "markdown",
   "id": "7515a9fc",
   "metadata": {},
   "source": [
    "## Single trial"
   ]
  },
  {
   "cell_type": "code",
   "execution_count": 11,
   "id": "e3e23798",
   "metadata": {},
   "outputs": [
    {
     "name": "stdout",
     "output_type": "stream",
     "text": [
      "Guess count: 1\n",
      "Guess: roate\n",
      "Feedback: bbbbb\n",
      "\n",
      "Guess count: 2\n",
      "Guess: which\n",
      "Feedback: bybbg\n",
      "\n",
      "Guess count: 3\n",
      "Guess: flush\n",
      "Feedback: bbbbg\n",
      "\n",
      "Guess count: 4\n",
      "Guess: nymph\n",
      "Feedback: ggggg\n",
      "\n"
     ]
    }
   ],
   "source": [
    "#test how many guesses the function need to use to solve one puzzle\n",
    "\n",
    "sample_answer = \"nymph\"\n",
    "guess = 'roate' # set the starting word whatever you like\n",
    "guess_count = 1\n",
    "word_pool = word_pool_nyt\n",
    "\n",
    "while guess != sample_answer:\n",
    "    print('Guess count:', guess_count)\n",
    "    print('Guess:', guess)\n",
    "    print('Feedback:', get_pattern(guess, sample_answer))\n",
    "    print('')\n",
    "    word_pool = update_pool(word_pool, guess, get_pattern(guess, sample_answer))\n",
    "    #print(word_pool)\n",
    "    guess = list(update_pool(word_pool, guess, get_pattern(guess, sample_answer)).keys())[0]\n",
    "    guess_count+=1\n",
    "    \n",
    "print('Guess count:', guess_count)\n",
    "print('Guess:', guess)\n",
    "print('Feedback:', get_pattern(guess, sample_answer))\n",
    "print('')"
   ]
  },
  {
   "cell_type": "markdown",
   "id": "de5cf37b",
   "metadata": {},
   "source": [
    "## Helper"
   ]
  },
  {
   "cell_type": "code",
   "execution_count": 12,
   "id": "6fbd65d0",
   "metadata": {},
   "outputs": [
    {
     "data": {
      "text/plain": [
       "{'rules': 5.06,\n",
       " 'river': 5.03,\n",
       " 'reply': 4.5,\n",
       " 'refer': 4.45,\n",
       " 'ruled': 4.3,\n",
       " 'rebel': 4.08,\n",
       " 'reign': 4.07,\n",
       " 'rises': 4.07,\n",
       " 'rides': 4.06,\n",
       " 'rider': 4.02,\n",
       " 'remix': 3.99,\n",
       " 'riley': 3.9,\n",
       " 'risen': 3.86,\n",
       " 'ruler': 3.84,\n",
       " 'renew': 3.73,\n",
       " 'resin': 3.61,\n",
       " 'reuse': 3.37,\n",
       " 'relic': 3.37,\n",
       " 'reefs': 3.36,\n",
       " 'reins': 3.31,\n",
       " 'repel': 3.2,\n",
       " 'reels': 3.12,\n",
       " 'revel': 3.11,\n",
       " 'reddy': 3.08,\n",
       " 'revue': 3.07,\n",
       " 'rupee': 3.04,\n",
       " 'reeds': 3.02,\n",
       " 'reeve': 2.91,\n",
       " 'rerun': 2.9,\n",
       " 'runes': 2.89,\n",
       " 'riser': 2.88,\n",
       " 'riled': 2.84,\n",
       " 'reeks': 2.81,\n",
       " 'redux': 2.74,\n",
       " 'riven': 2.72,\n",
       " 'recur': 2.65,\n",
       " 'ripen': 2.64,\n",
       " 'reiki': 2.59,\n",
       " 'reedy': 2.56,\n",
       " 'rebus': 2.53,\n",
       " 'rimes': 2.4,\n",
       " 'rebbe': 2.35,\n",
       " 'rumen': 2.3,\n",
       " 'redid': 2.29,\n",
       " 'rives': 2.23,\n",
       " 'rubes': 2.22,\n",
       " 'recce': 2.22,\n",
       " 'riles': 2.21,\n",
       " 'revie': 2.16,\n",
       " 'ruder': 2.13,\n",
       " 'renin': 2.09,\n",
       " 'rubel': 1.96,\n",
       " 'ribes': 1.96,\n",
       " 'riper': 1.95,\n",
       " 'rices': 1.89,\n",
       " 'repin': 1.87,\n",
       " 'ruses': 1.84,\n",
       " 'rebuy': 1.84,\n",
       " 'ricer': 1.8,\n",
       " 'rheum': 1.79,\n",
       " 'renne': 1.79,\n",
       " 'rimer': 1.72,\n",
       " 'regie': 1.66,\n",
       " 'redes': 1.66,\n",
       " 'rebid': 1.57,\n",
       " 'reify': 1.55,\n",
       " 'reede': 1.54,\n",
       " 'rexes': 1.53,\n",
       " 'redds': 1.53,\n",
       " 'rejig': 1.52,\n",
       " 'resid': 1.51,\n",
       " 'rends': 1.5,\n",
       " 'riced': 1.43,\n",
       " 'resus': 1.4,\n",
       " 'rines': 1.38,\n",
       " 'rebec': 1.29,\n",
       " 'rudes': 1.28,\n",
       " 'reges': 1.26,\n",
       " 'riped': 1.22,\n",
       " 'rived': 1.21,\n",
       " 'redub': 1.2,\n",
       " 'relie': 1.18,\n",
       " 'refix': 1.16,\n",
       " 'remen': 1.14,\n",
       " 'rekey': 1.14,\n",
       " 'riels': 1.12,\n",
       " 'runed': 1.1,\n",
       " 'recks': 1.08,\n",
       " 'rimed': 1.03,\n",
       " 'ricey': 1.03,\n",
       " 'ryper': 0.0,\n",
       " 'rykes': 0.0,\n",
       " 'ryked': 0.0,\n",
       " 'rumes': 0.0,\n",
       " 'ruers': 0.0,\n",
       " 'rivel': 0.0,\n",
       " 'ripes': 0.0,\n",
       " 'rifer': 0.0,\n",
       " 'rieve': 0.0,\n",
       " 'riems': 0.0,\n",
       " 'rhies': 0.0,\n",
       " 'rheme': 0.0,\n",
       " 'rezes': 0.0,\n",
       " 'rewin': 0.0,\n",
       " 'rewed': 0.0,\n",
       " 'resew': 0.0,\n",
       " 'reses': 0.0,\n",
       " 'resee': 0.0,\n",
       " 'rerig': 0.0,\n",
       " 'repps': 0.0,\n",
       " 'repeg': 0.0,\n",
       " 'renig': 0.0,\n",
       " 'reney': 0.0,\n",
       " 'remex': 0.0,\n",
       " 'rekes': 0.0,\n",
       " 'reked': 0.0,\n",
       " 'reive': 0.0,\n",
       " 'reird': 0.0,\n",
       " 'reink': 0.0,\n",
       " 'reiks': 0.0,\n",
       " 'reifs': 0.0,\n",
       " 'rehem': 0.0,\n",
       " 'regur': 0.0,\n",
       " 'refry': 0.0,\n",
       " 'refly': 0.0,\n",
       " 'refis': 0.0,\n",
       " 'refel': 0.0,\n",
       " 'refed': 0.0,\n",
       " 'reens': 0.0,\n",
       " 'reeky': 0.0,\n",
       " 'reefy': 0.0,\n",
       " 'reech': 0.0,\n",
       " 'redye': 0.0,\n",
       " 'redry': 0.0,\n",
       " 'redly': 0.0,\n",
       " 'redip': 0.0,\n",
       " 'reded': 0.0,\n",
       " 'reccy': 0.0}"
      ]
     },
     "execution_count": 12,
     "metadata": {},
     "output_type": "execute_result"
    }
   ],
   "source": [
    "# actually use the function to solve puzzle, without the answer\n",
    "new_pool = update_pool(word_pool_nyt, 'roate', 'gbbby')\n",
    "new_pool"
   ]
  },
  {
   "cell_type": "code",
   "execution_count": 13,
   "id": "f01158d0",
   "metadata": {},
   "outputs": [
    {
     "data": {
      "text/plain": [
       "{'river': 5.03,\n",
       " 'refer': 4.45,\n",
       " 'rider': 4.02,\n",
       " 'renew': 3.73,\n",
       " 'riven': 2.72,\n",
       " 'ripen': 2.64,\n",
       " 'riper': 1.95,\n",
       " 'ricer': 1.8,\n",
       " 'rimer': 1.72,\n",
       " 'riced': 1.43,\n",
       " 'rebec': 1.29,\n",
       " 'riped': 1.22,\n",
       " 'rived': 1.21,\n",
       " 'rekey': 1.14,\n",
       " 'remen': 1.14,\n",
       " 'ricey': 1.03,\n",
       " 'rimed': 1.03,\n",
       " 'reded': 0.0,\n",
       " 'refed': 0.0,\n",
       " 'rehem': 0.0,\n",
       " 'reked': 0.0,\n",
       " 'remex': 0.0,\n",
       " 'reney': 0.0,\n",
       " 'repeg': 0.0,\n",
       " 'rewed': 0.0,\n",
       " 'rifer': 0.0,\n",
       " 'ryked': 0.0,\n",
       " 'ryper': 0.0}"
      ]
     },
     "execution_count": 13,
     "metadata": {},
     "output_type": "execute_result"
    }
   ],
   "source": [
    "new_pool_1 = update_pool(new_pool, 'rules', 'gbbgb')\n",
    "new_pool_1"
   ]
  },
  {
   "cell_type": "code",
   "execution_count": 14,
   "id": "27e73e19",
   "metadata": {},
   "outputs": [
    {
     "data": {
      "text/plain": [
       "{'refer': 4.45,\n",
       " 'renew': 3.73,\n",
       " 'rebec': 1.29,\n",
       " 'remen': 1.14,\n",
       " 'rekey': 1.14,\n",
       " 'ryper': 0.0,\n",
       " 'ryked': 0.0,\n",
       " 'rewed': 0.0,\n",
       " 'repeg': 0.0,\n",
       " 'reney': 0.0,\n",
       " 'remex': 0.0,\n",
       " 'reked': 0.0,\n",
       " 'rehem': 0.0,\n",
       " 'refed': 0.0,\n",
       " 'reded': 0.0}"
      ]
     },
     "execution_count": 14,
     "metadata": {},
     "output_type": "execute_result"
    }
   ],
   "source": [
    "new_pool_2 = update_pool(new_pool_1, 'river', 'gbbgb')\n",
    "new_pool_2"
   ]
  },
  {
   "cell_type": "code",
   "execution_count": 15,
   "id": "a82e7354",
   "metadata": {},
   "outputs": [
    {
     "data": {
      "text/plain": [
       "{'renew': 3.73,\n",
       " 'rebec': 1.29,\n",
       " 'remen': 1.14,\n",
       " 'rekey': 1.14,\n",
       " 'rewed': 0.0,\n",
       " 'repeg': 0.0,\n",
       " 'reney': 0.0,\n",
       " 'remex': 0.0,\n",
       " 'reked': 0.0,\n",
       " 'rehem': 0.0,\n",
       " 'reded': 0.0}"
      ]
     },
     "execution_count": 15,
     "metadata": {},
     "output_type": "execute_result"
    }
   ],
   "source": [
    "new_pool_3 = update_pool(new_pool_1, 'refer', 'ggbgb')\n",
    "new_pool_3"
   ]
  },
  {
   "cell_type": "markdown",
   "id": "ca8850ad",
   "metadata": {},
   "source": [
    "## Test with all words"
   ]
  },
  {
   "cell_type": "code",
   "execution_count": 16,
   "id": "f9a1be26",
   "metadata": {},
   "outputs": [
    {
     "name": "stdout",
     "output_type": "stream",
     "text": [
      "Average guess used, success percentage(solve within 6 guesses)\n",
      "CPU times: user 1min 5s, sys: 599 ms, total: 1min 5s\n",
      "Wall time: 1min 9s\n"
     ]
    },
    {
     "data": {
      "text/plain": [
       "(4.026749888542131, 0.97141619748809)"
      ]
     },
     "execution_count": 16,
     "metadata": {},
     "output_type": "execute_result"
    }
   ],
   "source": [
    "%%time\n",
    "#test how many guesses the function need to use to solve all the puzzles\n",
    "\n",
    "def guessing(first_guess, answer_list, fail=0):\n",
    "    \n",
    "    if type(answer_list) == str:\n",
    "        word_pool = word_pool_nyt\n",
    "        guess_count = 1\n",
    "        guess = first_guess\n",
    "        while guess != answer:\n",
    "            word_pool = update_pool(word_pool, guess, get_pattern(guess, answer))\n",
    "            guess = list(update_pool(word_pool, guess, get_pattern(guess, answer)).keys())[0]\n",
    "            guess_count+=1\n",
    "        return guess_count\n",
    "    \n",
    "    else:\n",
    "        guesses_list = []\n",
    "        for answer in answer_list:\n",
    "            word_pool = word_pool_nyt\n",
    "            guess_count = 1\n",
    "            guess = first_guess\n",
    "            while guess != answer:\n",
    "                word_pool = update_pool(word_pool, guess, get_pattern(guess, answer))\n",
    "                guess = list(update_pool(word_pool, guess, get_pattern(guess, answer)).keys())[0]\n",
    "                guess_count+=1\n",
    "            guesses_list.append(guess_count)\n",
    "            #print(guess, answer, guess_count)\n",
    "        if fail == 1:\n",
    "            fail_count = sum(guess > 6 for guess in guesses_list)\n",
    "            guesses_list = [guess for guess in guesses_list if guess <= 6]\n",
    "            return sum(guesses_list)/len(guesses_list), len(guesses_list)/(len(guesses_list)+fail_count)\n",
    "        else:\n",
    "            return sum(guesses_list)/len(guesses_list)\n",
    "\n",
    "print(\"Average guess used, success percentage(solve within 6 guesses)\")\n",
    "guessing('plate', answers_nyt[0].to_list(), 1)"
   ]
  },
  {
   "cell_type": "markdown",
   "id": "0c33cbad",
   "metadata": {},
   "source": [
    "### Using 'plate' as starting word, average guess used: 4.03, success percentage(solve within 6 guesses): ~97%"
   ]
  },
  {
   "cell_type": "code",
   "execution_count": null,
   "id": "283521e9",
   "metadata": {},
   "outputs": [],
   "source": []
  }
 ],
 "metadata": {
  "kernelspec": {
   "display_name": "Python 3 (ipykernel)",
   "language": "python",
   "name": "python3"
  },
  "language_info": {
   "codemirror_mode": {
    "name": "ipython",
    "version": 3
   },
   "file_extension": ".py",
   "mimetype": "text/x-python",
   "name": "python",
   "nbconvert_exporter": "python",
   "pygments_lexer": "ipython3",
   "version": "3.9.5"
  }
 },
 "nbformat": 4,
 "nbformat_minor": 5
}
