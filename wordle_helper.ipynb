{
 "cells": [
  {
   "cell_type": "code",
   "execution_count": 1,
   "id": "b2bc4ebf",
   "metadata": {},
   "outputs": [],
   "source": [
    "# import libraries\n",
    "import pandas as pd\n",
    "import re\n",
    "#from english_words import english_words_set\n",
    "from wordfreq import zipf_frequency # count the usage frequency of words"
   ]
  },
  {
   "cell_type": "code",
   "execution_count": 2,
   "id": "a5c833c8",
   "metadata": {},
   "outputs": [],
   "source": [
    "# wordle word pool obtained from: https://gist.github.com/cfreshman\n",
    "\n",
    "# before nyt bought wordle\n",
    "guesses_org = pd.read_csv('wordle-allowed-guesses.txt', header=None)\n",
    "answers_org = pd.read_csv('wordle-answers-alphabetical.txt', header=None)\n",
    "\n",
    "# after nyt bought wordle\n",
    "guesses_nyt = pd.read_csv('wordle-nyt-allowed-guesses.txt', header=None)\n",
    "answers_nyt = pd.read_csv('wordle-nyt-answers-alphabetical.txt', header=None)"
   ]
  },
  {
   "cell_type": "code",
   "execution_count": 3,
   "id": "8b748eb1",
   "metadata": {},
   "outputs": [],
   "source": [
    "# combine the allowed guesses and answers to create the complete allowed word list\n",
    "word_pool_org = guesses_org[0].to_list() + answers_org[0].to_list()\n",
    "word_pool_nyt = guesses_nyt[0].to_list() + answers_nyt[0].to_list()"
   ]
  },
  {
   "cell_type": "code",
   "execution_count": 4,
   "id": "f382d18a",
   "metadata": {},
   "outputs": [
    {
     "name": "stdout",
     "output_type": "stream",
     "text": [
      "12972\n",
      "12947\n"
     ]
    }
   ],
   "source": [
    "print(len(word_pool_org))\n",
    "print(len(word_pool_nyt))"
   ]
  },
  {
   "cell_type": "code",
   "execution_count": 5,
   "id": "b0770246",
   "metadata": {},
   "outputs": [],
   "source": [
    "# count the usage frequency of words in word_list using the wordfreq library\n",
    "# more information about the library: https://pypi.org/project/wordfreq/\n",
    "def create_usage_freq_d(word_list):    \n",
    "    usage_freq_d = {}\n",
    "    for word in word_list:\n",
    "        usage_freq_d[word] = zipf_frequency(word, 'en')\n",
    "        \n",
    "    # sort the dict by the usage frequency score in desc order\n",
    "    sorted_usage_freq_d = {k: v for k, v in reversed(sorted(usage_freq_d.items(), key=lambda item: item[1]))}\n",
    "    return sorted_usage_freq_d"
   ]
  },
  {
   "cell_type": "code",
   "execution_count": 6,
   "id": "557c6318",
   "metadata": {},
   "outputs": [],
   "source": [
    "# this function is not used\n",
    "def create_letter_score_d(word_list):\n",
    "    letters_d = {}\n",
    "    for letter in ''.join(word_list):\n",
    "        if letter in letters_d:\n",
    "            letters_d[letter] += 1\n",
    "        else:\n",
    "            letters_d[letter] = 1\n",
    "        \n",
    "    freq_d = {key: 0 for key in word_list}\n",
    "    for word in word_list:\n",
    "        unique_letter_word = \"\".join(set(word))\n",
    "        for n in unique_letter_word:\n",
    "            freq_d[word] += letters_d[n]\n",
    "        \n",
    "    sorted_freq_d = {k: v for k, v in reversed(sorted(freq_d.items(), key=lambda item: item[1]))}"
   ]
  },
  {
   "cell_type": "code",
   "execution_count": 7,
   "id": "dd6f5b81",
   "metadata": {},
   "outputs": [],
   "source": [
    "# function to update the word list based on the green/yellow/black feedback after each guess\n",
    "# function returns an updated and usage frequency sorted word list\n",
    "def update_pool(pool, guess, pattern):\n",
    "    pattern_dict = {}\n",
    "    for n in range(5):\n",
    "        if list(guess)[n] not in pattern_dict:\n",
    "            pattern_dict[list(guess)[n]] = list(pattern)[n]\n",
    "        else:\n",
    "            pattern_dict[list(guess)[n]+'1'] = list(pattern)[n]\n",
    "\n",
    "    b_list = []\n",
    "    for k, v in pattern_dict.items():\n",
    "        if v =='b':\n",
    "            b_list.append(k[0])\n",
    "            \n",
    "    g_list = []\n",
    "    for k, v in pattern_dict.items():\n",
    "        if v =='g':\n",
    "            g_list.append(k[0])\n",
    "            \n",
    "    b_list = [letter for letter in b_list if letter not in g_list]\n",
    "            \n",
    "    #print('Black List:')\n",
    "    #print(b_list)\n",
    "    #print(\"\")\n",
    "    \n",
    "    if len(b_list) != 0:\n",
    "        for b_letter in b_list:\n",
    "            pool = [word for word in pool if b_letter not in word]\n",
    "            \n",
    "    #print('After Black:')\n",
    "    #print(pool)\n",
    "    #print(\"\")\n",
    "            \n",
    "    g_pattern = ''\n",
    "    for k, v in pattern_dict.items():\n",
    "        if v =='g':\n",
    "            g_pattern+=k[0]\n",
    "        else:\n",
    "            g_pattern+='.'\n",
    "    \n",
    "    p = re.compile(g_pattern)\n",
    "    pool = [word for word in pool if p.match(word)]\n",
    "    \n",
    "    #print(\"After Green:\")\n",
    "    #print(pool)\n",
    "    #print(\"\")\n",
    "    \n",
    "    count = 0\n",
    "    y_dict = {}\n",
    "    for k, v in pattern_dict.items():\n",
    "        if v =='y':\n",
    "            y_dict[k[0]] = count\n",
    "        count+=1\n",
    "    \n",
    "    g_list = []\n",
    "    for k, v in pattern_dict.items():\n",
    "        if v =='g':\n",
    "            g_list.append(k[0])\n",
    "\n",
    "    remove_list = []\n",
    "    for k, v in y_dict.items():\n",
    "        for word in pool:\n",
    "            if (word.find(k[0]) == v):\n",
    "                remove_list.append(word)\n",
    "    \n",
    "    pool = [word for word in pool if word not in remove_list]\n",
    "    \n",
    "    y_list = list(y_dict.keys())\n",
    "    if len(y_list) != 0:\n",
    "        for y_letter in y_list:\n",
    "            pool = [word for word in pool if y_letter in word]\n",
    "    \n",
    "    # select the pairs in updated word list from the word usage frequency dictionary\n",
    "    freq_d = {word_key: usage_freq_d[word_key] for word_key in pool}\n",
    "    sorted_freq_d = {k: v for k, v in reversed(sorted(freq_d.items(), key=lambda item: item[1]))}\n",
    "    return sorted_freq_d\n",
    "    #return list(sorted_freq_d.keys())"
   ]
  },
  {
   "cell_type": "code",
   "execution_count": 8,
   "id": "e3b71b71",
   "metadata": {},
   "outputs": [],
   "source": [
    "usage_freq_d = create_usage_freq_d(word_pool_nyt)"
   ]
  },
  {
   "cell_type": "code",
   "execution_count": 9,
   "id": "1a80759e",
   "metadata": {},
   "outputs": [
    {
     "data": {
      "text/plain": [
       "[('about', 6.4),\n",
       " ('their', 6.33),\n",
       " ('there', 6.31),\n",
       " ('which', 6.3),\n",
       " ('would', 6.27),\n",
       " ('other', 6.16),\n",
       " ('first', 6.11),\n",
       " ('after', 6.11),\n",
       " ('think', 6.08),\n",
       " ('could', 6.06)]"
      ]
     },
     "execution_count": 9,
     "metadata": {},
     "output_type": "execute_result"
    }
   ],
   "source": [
    "# check the word usage frequency dictionary\n",
    "list(usage_freq_d.items())[:10]"
   ]
  },
  {
   "cell_type": "code",
   "execution_count": 10,
   "id": "f17b9f95",
   "metadata": {},
   "outputs": [],
   "source": [
    "sample_answer = \"frame\""
   ]
  },
  {
   "cell_type": "code",
   "execution_count": 11,
   "id": "6fbd65d0",
   "metadata": {},
   "outputs": [
    {
     "data": {
      "text/plain": [
       "{'share': 5.2,\n",
       " 'grade': 4.8,\n",
       " 'aware': 4.78,\n",
       " 'frame': 4.58,\n",
       " 'grace': 4.56,\n",
       " 'brave': 4.33,\n",
       " 'grave': 4.31,\n",
       " 'spare': 4.28,\n",
       " 'scare': 4.07,\n",
       " 'drake': 3.96,\n",
       " 'brake': 3.95,\n",
       " 'crane': 3.92,\n",
       " 'brace': 3.72,\n",
       " 'grape': 3.7,\n",
       " 'erase': 3.66,\n",
       " 'flare': 3.64,\n",
       " 'crave': 3.47,\n",
       " 'glare': 3.36,\n",
       " 'craze': 3.35,\n",
       " 'snare': 3.25,\n",
       " 'graze': 3.02,\n",
       " 'drape': 2.74,\n",
       " 'blare': 2.39,\n",
       " 'brane': 2.08,\n",
       " 'whare': 2.02,\n",
       " 'crake': 1.96,\n",
       " 'beare': 1.93,\n",
       " 'braze': 1.84,\n",
       " 'sware': 1.83,\n",
       " 'crape': 1.83,\n",
       " 'phare': 1.75,\n",
       " 'quare': 1.71,\n",
       " 'deare': 1.61,\n",
       " 'brame': 1.54,\n",
       " 'heare': 1.42,\n",
       " 'chare': 1.38,\n",
       " 'feare': 1.36,\n",
       " 'crame': 1.33,\n",
       " 'meare': 1.15,\n",
       " 'drave': 1.11,\n",
       " 'prase': 1.01,\n",
       " 'urase': 0.0,\n",
       " 'urare': 0.0,\n",
       " 'seare': 0.0,\n",
       " 'peare': 0.0,\n",
       " 'maare': 0.0,\n",
       " 'leare': 0.0,\n",
       " 'irade': 0.0,\n",
       " 'grame': 0.0,\n",
       " 'geare': 0.0,\n",
       " 'frape': 0.0,\n",
       " 'crare': 0.0,\n",
       " 'arame': 0.0}"
      ]
     },
     "execution_count": 11,
     "metadata": {},
     "output_type": "execute_result"
    }
   ],
   "source": [
    "#testing the function\n",
    "new_pool = update_pool(word_pool_nyt, 'roate', 'ybgbg')\n",
    "new_pool"
   ]
  },
  {
   "cell_type": "code",
   "execution_count": 12,
   "id": "f01158d0",
   "metadata": {},
   "outputs": [
    {
     "data": {
      "text/plain": [
       "{'grade': 4.8,\n",
       " 'frame': 4.58,\n",
       " 'grace': 4.56,\n",
       " 'brave': 4.33,\n",
       " 'grave': 4.31,\n",
       " 'drake': 3.96,\n",
       " 'brake': 3.95,\n",
       " 'crane': 3.92,\n",
       " 'brace': 3.72,\n",
       " 'grape': 3.7,\n",
       " 'crave': 3.47,\n",
       " 'craze': 3.35,\n",
       " 'graze': 3.02,\n",
       " 'drape': 2.74,\n",
       " 'brane': 2.08,\n",
       " 'crake': 1.96,\n",
       " 'braze': 1.84,\n",
       " 'crape': 1.83,\n",
       " 'brame': 1.54,\n",
       " 'crame': 1.33,\n",
       " 'drave': 1.11,\n",
       " 'arame': 0.0,\n",
       " 'crare': 0.0,\n",
       " 'frape': 0.0,\n",
       " 'grame': 0.0,\n",
       " 'irade': 0.0,\n",
       " 'urare': 0.0}"
      ]
     },
     "execution_count": 12,
     "metadata": {},
     "output_type": "execute_result"
    }
   ],
   "source": [
    "new_pool_1 = update_pool(new_pool, 'share', 'bbgyg')\n",
    "new_pool_1"
   ]
  },
  {
   "cell_type": "code",
   "execution_count": 13,
   "id": "27e73e19",
   "metadata": {},
   "outputs": [
    {
     "data": {
      "text/plain": [
       "{'frame': 4.58,\n",
       " 'brave': 4.33,\n",
       " 'brake': 3.95,\n",
       " 'crane': 3.92,\n",
       " 'brace': 3.72,\n",
       " 'crave': 3.47,\n",
       " 'craze': 3.35,\n",
       " 'brane': 2.08,\n",
       " 'crake': 1.96,\n",
       " 'braze': 1.84,\n",
       " 'crape': 1.83,\n",
       " 'brame': 1.54,\n",
       " 'crame': 1.33,\n",
       " 'urare': 0.0,\n",
       " 'frape': 0.0,\n",
       " 'crare': 0.0,\n",
       " 'arame': 0.0}"
      ]
     },
     "execution_count": 13,
     "metadata": {},
     "output_type": "execute_result"
    }
   ],
   "source": [
    "new_pool_2 = update_pool(new_pool_1, 'grade', 'bggbg')\n",
    "new_pool_2"
   ]
  },
  {
   "cell_type": "code",
   "execution_count": 14,
   "id": "a82e7354",
   "metadata": {},
   "outputs": [
    {
     "data": {
      "text/plain": [
       "{'frame': 4.58}"
      ]
     },
     "execution_count": 14,
     "metadata": {},
     "output_type": "execute_result"
    }
   ],
   "source": [
    "new_pool_3 = update_pool(new_pool_1, 'frame', 'ggggg')\n",
    "new_pool_3"
   ]
  },
  {
   "cell_type": "code",
   "execution_count": null,
   "id": "0c45428e",
   "metadata": {},
   "outputs": [],
   "source": []
  }
 ],
 "metadata": {
  "kernelspec": {
   "display_name": "Python 3 (ipykernel)",
   "language": "python",
   "name": "python3"
  },
  "language_info": {
   "codemirror_mode": {
    "name": "ipython",
    "version": 3
   },
   "file_extension": ".py",
   "mimetype": "text/x-python",
   "name": "python",
   "nbconvert_exporter": "python",
   "pygments_lexer": "ipython3",
   "version": "3.9.5"
  }
 },
 "nbformat": 4,
 "nbformat_minor": 5
}
